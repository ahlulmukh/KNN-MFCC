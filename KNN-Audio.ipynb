{
 "cells": [
  {
   "cell_type": "markdown",
   "id": "380b0c13",
   "metadata": {},
   "source": [
    "<div style=\"background-color: #163eff; padding: 15px; text-align: center; display: flex; align-items: center; height: 100vh;\">\n",
    "    <span style=\"font-size: 35px; font-weight: bold; font-family: 'Times New Roman'; color: white; margin: auto;\">\n",
    "        import\n",
    "    </span>\n",
    "</div>"
   ]
  },
  {
   "cell_type": "code",
   "execution_count": 9,
   "id": "e94da146",
   "metadata": {},
   "outputs": [],
   "source": [
    "import os\n",
    "import librosa\n",
    "import numpy as np\n",
    "import pandas as pd\n",
    "\n",
    "import matplotlib.pyplot as plt\n",
    "from sklearn.model_selection import train_test_split\n",
    "from sklearn.neighbors import KNeighborsClassifier\n",
    "from sklearn.metrics import accuracy_score, classification_report\n",
    "from sklearn.model_selection import cross_val_score\n",
    "from sklearn.model_selection import StratifiedKFold\n",
    "from sklearn.neighbors import KNeighborsClassifier\n",
    "from sklearn.preprocessing import StandardScaler, LabelBinarizer\n",
    "from sklearn.metrics import roc_curve, auc"
   ]
  },
  {
   "cell_type": "markdown",
   "id": "8223994f-0cf1-47ea-bead-68404682c2e5",
   "metadata": {},
   "source": [
    "<div style=\"background-color: #163eff; padding: 15px; text-align: center; display: flex; align-items: center; height: 100vh;\">\n",
    "    <span style=\"font-size: 35px; font-weight: bold; font-family: 'Times New Roman'; color: white; margin: auto;\">\n",
    "        Input Audio\n",
    "    </span>\n",
    "</div>"
   ]
  },
  {
   "cell_type": "code",
   "execution_count": 10,
   "id": "15755d34",
   "metadata": {},
   "outputs": [],
   "source": [
    "directory_path = \"D:\\Project\\Joki\\KNN-MFCC-REV\\Audio\""
   ]
  },
  {
   "cell_type": "markdown",
   "id": "4e51e94a-13ea-45ba-a24f-0d9ec9412f0e",
   "metadata": {},
   "source": [
    "<div style=\"background-color: #163eff; padding: 15px; text-align: center; display: flex; align-items: center; height: 100vh;\">\n",
    "    <span style=\"font-size: 35px; font-weight: bold; font-family: 'Times New Roman'; color: white; margin: auto;\">\n",
    "        Membaca semua audio berformat wav\n",
    "    </span>\n",
    "</div>"
   ]
  },
  {
   "cell_type": "code",
   "execution_count": 11,
   "id": "13839694",
   "metadata": {},
   "outputs": [],
   "source": [
    "all_files = os.listdir(directory_path)\n",
    "wav_files = [file for file in all_files if file.endswith(\".wav\")]"
   ]
  },
  {
   "cell_type": "code",
   "execution_count": 12,
   "id": "194ef13a",
   "metadata": {},
   "outputs": [],
   "source": [
    "features = []\n",
    "labels = []"
   ]
  },
  {
   "cell_type": "code",
   "execution_count": 13,
   "id": "bc38b4bc",
   "metadata": {},
   "outputs": [],
   "source": [
    "for wav_file in wav_files:\n",
    "    file_path = os.path.join(directory_path, wav_file)\n",
    "    audio_data, sample_rate = librosa.load(file_path)\n",
    "\n",
    "    mfccs = librosa.feature.mfcc(y=audio_data, sr=sample_rate, n_mfcc=20)\n",
    "    mfccs_mean = np.mean(mfccs, axis=1)\n",
    "\n",
    "    if \"1lhong\" in wav_file:\n",
    "        labels.append(\"1 lhong\")\n",
    "    elif \"2lhong\" in wav_file:\n",
    "        labels.append(\"2 lhong\")\n",
    "    elif \"1pasi teube\" in wav_file:\n",
    "        labels.append(\"1 pasi teube\")\n",
    "    elif \"2pasi teube\" in wav_file:\n",
    "        labels.append(\"2 pasi teube\")\n",
    "        \n",
    "    features.append(mfccs_mean)"
   ]
  },
  {
   "cell_type": "code",
   "execution_count": 14,
   "id": "793a9d96",
   "metadata": {},
   "outputs": [],
   "source": [
    "features = np.array(features)\n",
    "labels = np.array(labels)"
   ]
  },
  {
   "cell_type": "code",
   "execution_count": 15,
   "id": "e54d3b20",
   "metadata": {},
   "outputs": [],
   "source": [
    "df = pd.DataFrame(features, columns=[f\"mfcc_{i}\" for i in range(features.shape[1])])\n",
    "df.insert(0, \"label\", labels)"
   ]
  },
  {
   "cell_type": "code",
   "execution_count": 19,
   "id": "e77fdf96",
   "metadata": {},
   "outputs": [
    {
     "data": {
      "text/html": [
       "<div>\n",
       "<style scoped>\n",
       "    .dataframe tbody tr th:only-of-type {\n",
       "        vertical-align: middle;\n",
       "    }\n",
       "\n",
       "    .dataframe tbody tr th {\n",
       "        vertical-align: top;\n",
       "    }\n",
       "\n",
       "    .dataframe thead th {\n",
       "        text-align: right;\n",
       "    }\n",
       "</style>\n",
       "<table border=\"1\" class=\"dataframe\">\n",
       "  <thead>\n",
       "    <tr style=\"text-align: right;\">\n",
       "      <th></th>\n",
       "      <th>label</th>\n",
       "      <th>mfcc_0</th>\n",
       "      <th>mfcc_1</th>\n",
       "      <th>mfcc_2</th>\n",
       "      <th>mfcc_3</th>\n",
       "      <th>mfcc_4</th>\n",
       "      <th>mfcc_5</th>\n",
       "      <th>mfcc_6</th>\n",
       "      <th>mfcc_7</th>\n",
       "      <th>mfcc_8</th>\n",
       "      <th>...</th>\n",
       "      <th>mfcc_10</th>\n",
       "      <th>mfcc_11</th>\n",
       "      <th>mfcc_12</th>\n",
       "      <th>mfcc_13</th>\n",
       "      <th>mfcc_14</th>\n",
       "      <th>mfcc_15</th>\n",
       "      <th>mfcc_16</th>\n",
       "      <th>mfcc_17</th>\n",
       "      <th>mfcc_18</th>\n",
       "      <th>mfcc_19</th>\n",
       "    </tr>\n",
       "  </thead>\n",
       "  <tbody>\n",
       "    <tr>\n",
       "      <th>0</th>\n",
       "      <td>1 lhong</td>\n",
       "      <td>-246.405869</td>\n",
       "      <td>117.416336</td>\n",
       "      <td>-51.145554</td>\n",
       "      <td>52.655880</td>\n",
       "      <td>-22.137150</td>\n",
       "      <td>-15.310780</td>\n",
       "      <td>-22.647781</td>\n",
       "      <td>-7.486814</td>\n",
       "      <td>-2.936989</td>\n",
       "      <td>...</td>\n",
       "      <td>-2.892957</td>\n",
       "      <td>-3.077223</td>\n",
       "      <td>-8.963640</td>\n",
       "      <td>-2.977826</td>\n",
       "      <td>5.020565</td>\n",
       "      <td>-20.798071</td>\n",
       "      <td>7.060617</td>\n",
       "      <td>-7.718058</td>\n",
       "      <td>-12.406495</td>\n",
       "      <td>4.519414</td>\n",
       "    </tr>\n",
       "    <tr>\n",
       "      <th>1</th>\n",
       "      <td>1 lhong</td>\n",
       "      <td>-264.492828</td>\n",
       "      <td>127.126205</td>\n",
       "      <td>-8.169453</td>\n",
       "      <td>49.621807</td>\n",
       "      <td>-20.739820</td>\n",
       "      <td>-8.671712</td>\n",
       "      <td>-28.406649</td>\n",
       "      <td>-8.877991</td>\n",
       "      <td>-7.518525</td>\n",
       "      <td>...</td>\n",
       "      <td>1.398180</td>\n",
       "      <td>-16.719711</td>\n",
       "      <td>-3.840970</td>\n",
       "      <td>-6.774444</td>\n",
       "      <td>-0.355224</td>\n",
       "      <td>-12.297637</td>\n",
       "      <td>0.714637</td>\n",
       "      <td>-4.450565</td>\n",
       "      <td>-5.269557</td>\n",
       "      <td>4.579228</td>\n",
       "    </tr>\n",
       "    <tr>\n",
       "      <th>2</th>\n",
       "      <td>1 lhong</td>\n",
       "      <td>-280.087006</td>\n",
       "      <td>146.273712</td>\n",
       "      <td>-23.404026</td>\n",
       "      <td>29.273407</td>\n",
       "      <td>-11.164378</td>\n",
       "      <td>-8.869768</td>\n",
       "      <td>-20.331043</td>\n",
       "      <td>-0.393838</td>\n",
       "      <td>-4.239679</td>\n",
       "      <td>...</td>\n",
       "      <td>5.127278</td>\n",
       "      <td>-8.449961</td>\n",
       "      <td>-6.090400</td>\n",
       "      <td>-1.941316</td>\n",
       "      <td>-10.204469</td>\n",
       "      <td>-13.675164</td>\n",
       "      <td>3.820855</td>\n",
       "      <td>-5.376580</td>\n",
       "      <td>-3.964740</td>\n",
       "      <td>-2.554837</td>\n",
       "    </tr>\n",
       "    <tr>\n",
       "      <th>3</th>\n",
       "      <td>1 lhong</td>\n",
       "      <td>-272.170563</td>\n",
       "      <td>132.500961</td>\n",
       "      <td>-16.010735</td>\n",
       "      <td>36.997223</td>\n",
       "      <td>-24.387964</td>\n",
       "      <td>-16.605705</td>\n",
       "      <td>-30.666498</td>\n",
       "      <td>-11.723931</td>\n",
       "      <td>-6.224903</td>\n",
       "      <td>...</td>\n",
       "      <td>7.219572</td>\n",
       "      <td>-6.158958</td>\n",
       "      <td>-11.802691</td>\n",
       "      <td>0.950039</td>\n",
       "      <td>-13.344388</td>\n",
       "      <td>-13.810266</td>\n",
       "      <td>3.872135</td>\n",
       "      <td>-12.405176</td>\n",
       "      <td>-7.904029</td>\n",
       "      <td>0.114527</td>\n",
       "    </tr>\n",
       "    <tr>\n",
       "      <th>4</th>\n",
       "      <td>1 lhong</td>\n",
       "      <td>-255.059189</td>\n",
       "      <td>129.099640</td>\n",
       "      <td>-28.581963</td>\n",
       "      <td>9.706370</td>\n",
       "      <td>-40.905682</td>\n",
       "      <td>-4.602747</td>\n",
       "      <td>-30.649351</td>\n",
       "      <td>-4.450306</td>\n",
       "      <td>0.466244</td>\n",
       "      <td>...</td>\n",
       "      <td>1.791721</td>\n",
       "      <td>-21.903360</td>\n",
       "      <td>-10.016637</td>\n",
       "      <td>-8.996991</td>\n",
       "      <td>-9.133368</td>\n",
       "      <td>-14.512863</td>\n",
       "      <td>-8.822633</td>\n",
       "      <td>-7.584690</td>\n",
       "      <td>-14.421210</td>\n",
       "      <td>-3.867775</td>\n",
       "    </tr>\n",
       "    <tr>\n",
       "      <th>...</th>\n",
       "      <td>...</td>\n",
       "      <td>...</td>\n",
       "      <td>...</td>\n",
       "      <td>...</td>\n",
       "      <td>...</td>\n",
       "      <td>...</td>\n",
       "      <td>...</td>\n",
       "      <td>...</td>\n",
       "      <td>...</td>\n",
       "      <td>...</td>\n",
       "      <td>...</td>\n",
       "      <td>...</td>\n",
       "      <td>...</td>\n",
       "      <td>...</td>\n",
       "      <td>...</td>\n",
       "      <td>...</td>\n",
       "      <td>...</td>\n",
       "      <td>...</td>\n",
       "      <td>...</td>\n",
       "      <td>...</td>\n",
       "      <td>...</td>\n",
       "    </tr>\n",
       "    <tr>\n",
       "      <th>295</th>\n",
       "      <td>2 pasi teube</td>\n",
       "      <td>-320.098450</td>\n",
       "      <td>92.794701</td>\n",
       "      <td>-17.695148</td>\n",
       "      <td>14.158454</td>\n",
       "      <td>-30.999683</td>\n",
       "      <td>13.184532</td>\n",
       "      <td>-30.682798</td>\n",
       "      <td>-15.777246</td>\n",
       "      <td>-11.806040</td>\n",
       "      <td>...</td>\n",
       "      <td>-16.478699</td>\n",
       "      <td>-2.747239</td>\n",
       "      <td>-9.956622</td>\n",
       "      <td>-9.198876</td>\n",
       "      <td>0.156271</td>\n",
       "      <td>-11.235165</td>\n",
       "      <td>-12.491795</td>\n",
       "      <td>-8.089112</td>\n",
       "      <td>-2.062598</td>\n",
       "      <td>-12.169262</td>\n",
       "    </tr>\n",
       "    <tr>\n",
       "      <th>296</th>\n",
       "      <td>2 pasi teube</td>\n",
       "      <td>-345.476990</td>\n",
       "      <td>125.684204</td>\n",
       "      <td>-3.093664</td>\n",
       "      <td>14.992336</td>\n",
       "      <td>-31.894449</td>\n",
       "      <td>-8.149006</td>\n",
       "      <td>-32.015095</td>\n",
       "      <td>-12.293682</td>\n",
       "      <td>-8.075799</td>\n",
       "      <td>...</td>\n",
       "      <td>-10.564717</td>\n",
       "      <td>-9.430662</td>\n",
       "      <td>1.356801</td>\n",
       "      <td>-11.551521</td>\n",
       "      <td>-4.046853</td>\n",
       "      <td>-16.637493</td>\n",
       "      <td>-7.314349</td>\n",
       "      <td>-4.993253</td>\n",
       "      <td>-7.538567</td>\n",
       "      <td>-1.640821</td>\n",
       "    </tr>\n",
       "    <tr>\n",
       "      <th>297</th>\n",
       "      <td>2 pasi teube</td>\n",
       "      <td>-300.400269</td>\n",
       "      <td>118.738449</td>\n",
       "      <td>15.124846</td>\n",
       "      <td>14.491169</td>\n",
       "      <td>-53.154251</td>\n",
       "      <td>6.722349</td>\n",
       "      <td>-48.922306</td>\n",
       "      <td>-18.729769</td>\n",
       "      <td>15.709586</td>\n",
       "      <td>...</td>\n",
       "      <td>-16.623524</td>\n",
       "      <td>-3.441588</td>\n",
       "      <td>-6.142499</td>\n",
       "      <td>-13.452234</td>\n",
       "      <td>-3.018133</td>\n",
       "      <td>-11.207294</td>\n",
       "      <td>-6.196676</td>\n",
       "      <td>1.277799</td>\n",
       "      <td>-9.034051</td>\n",
       "      <td>-2.584573</td>\n",
       "    </tr>\n",
       "    <tr>\n",
       "      <th>298</th>\n",
       "      <td>2 pasi teube</td>\n",
       "      <td>-337.770264</td>\n",
       "      <td>100.396004</td>\n",
       "      <td>-23.656921</td>\n",
       "      <td>20.110510</td>\n",
       "      <td>-28.926184</td>\n",
       "      <td>-5.687666</td>\n",
       "      <td>-25.559370</td>\n",
       "      <td>-13.076061</td>\n",
       "      <td>9.122932</td>\n",
       "      <td>...</td>\n",
       "      <td>-8.626396</td>\n",
       "      <td>-1.740215</td>\n",
       "      <td>-8.752420</td>\n",
       "      <td>-8.746771</td>\n",
       "      <td>-16.366734</td>\n",
       "      <td>-11.917410</td>\n",
       "      <td>-6.093534</td>\n",
       "      <td>-14.095933</td>\n",
       "      <td>-12.250321</td>\n",
       "      <td>-6.567773</td>\n",
       "    </tr>\n",
       "    <tr>\n",
       "      <th>299</th>\n",
       "      <td>2 pasi teube</td>\n",
       "      <td>-310.769012</td>\n",
       "      <td>96.616280</td>\n",
       "      <td>-31.204378</td>\n",
       "      <td>23.485346</td>\n",
       "      <td>-32.542027</td>\n",
       "      <td>-3.293920</td>\n",
       "      <td>-29.576721</td>\n",
       "      <td>-22.585154</td>\n",
       "      <td>1.254873</td>\n",
       "      <td>...</td>\n",
       "      <td>-1.296722</td>\n",
       "      <td>-0.045404</td>\n",
       "      <td>-16.240463</td>\n",
       "      <td>-0.213699</td>\n",
       "      <td>-16.562195</td>\n",
       "      <td>-22.437422</td>\n",
       "      <td>-0.429045</td>\n",
       "      <td>-7.054695</td>\n",
       "      <td>-15.017625</td>\n",
       "      <td>-10.453238</td>\n",
       "    </tr>\n",
       "  </tbody>\n",
       "</table>\n",
       "<p>300 rows × 21 columns</p>\n",
       "</div>"
      ],
      "text/plain": [
       "            label      mfcc_0      mfcc_1     mfcc_2     mfcc_3     mfcc_4  \\\n",
       "0         1 lhong -246.405869  117.416336 -51.145554  52.655880 -22.137150   \n",
       "1         1 lhong -264.492828  127.126205  -8.169453  49.621807 -20.739820   \n",
       "2         1 lhong -280.087006  146.273712 -23.404026  29.273407 -11.164378   \n",
       "3         1 lhong -272.170563  132.500961 -16.010735  36.997223 -24.387964   \n",
       "4         1 lhong -255.059189  129.099640 -28.581963   9.706370 -40.905682   \n",
       "..            ...         ...         ...        ...        ...        ...   \n",
       "295  2 pasi teube -320.098450   92.794701 -17.695148  14.158454 -30.999683   \n",
       "296  2 pasi teube -345.476990  125.684204  -3.093664  14.992336 -31.894449   \n",
       "297  2 pasi teube -300.400269  118.738449  15.124846  14.491169 -53.154251   \n",
       "298  2 pasi teube -337.770264  100.396004 -23.656921  20.110510 -28.926184   \n",
       "299  2 pasi teube -310.769012   96.616280 -31.204378  23.485346 -32.542027   \n",
       "\n",
       "        mfcc_5     mfcc_6     mfcc_7     mfcc_8  ...    mfcc_10    mfcc_11  \\\n",
       "0   -15.310780 -22.647781  -7.486814  -2.936989  ...  -2.892957  -3.077223   \n",
       "1    -8.671712 -28.406649  -8.877991  -7.518525  ...   1.398180 -16.719711   \n",
       "2    -8.869768 -20.331043  -0.393838  -4.239679  ...   5.127278  -8.449961   \n",
       "3   -16.605705 -30.666498 -11.723931  -6.224903  ...   7.219572  -6.158958   \n",
       "4    -4.602747 -30.649351  -4.450306   0.466244  ...   1.791721 -21.903360   \n",
       "..         ...        ...        ...        ...  ...        ...        ...   \n",
       "295  13.184532 -30.682798 -15.777246 -11.806040  ... -16.478699  -2.747239   \n",
       "296  -8.149006 -32.015095 -12.293682  -8.075799  ... -10.564717  -9.430662   \n",
       "297   6.722349 -48.922306 -18.729769  15.709586  ... -16.623524  -3.441588   \n",
       "298  -5.687666 -25.559370 -13.076061   9.122932  ...  -8.626396  -1.740215   \n",
       "299  -3.293920 -29.576721 -22.585154   1.254873  ...  -1.296722  -0.045404   \n",
       "\n",
       "       mfcc_12    mfcc_13    mfcc_14    mfcc_15    mfcc_16    mfcc_17  \\\n",
       "0    -8.963640  -2.977826   5.020565 -20.798071   7.060617  -7.718058   \n",
       "1    -3.840970  -6.774444  -0.355224 -12.297637   0.714637  -4.450565   \n",
       "2    -6.090400  -1.941316 -10.204469 -13.675164   3.820855  -5.376580   \n",
       "3   -11.802691   0.950039 -13.344388 -13.810266   3.872135 -12.405176   \n",
       "4   -10.016637  -8.996991  -9.133368 -14.512863  -8.822633  -7.584690   \n",
       "..         ...        ...        ...        ...        ...        ...   \n",
       "295  -9.956622  -9.198876   0.156271 -11.235165 -12.491795  -8.089112   \n",
       "296   1.356801 -11.551521  -4.046853 -16.637493  -7.314349  -4.993253   \n",
       "297  -6.142499 -13.452234  -3.018133 -11.207294  -6.196676   1.277799   \n",
       "298  -8.752420  -8.746771 -16.366734 -11.917410  -6.093534 -14.095933   \n",
       "299 -16.240463  -0.213699 -16.562195 -22.437422  -0.429045  -7.054695   \n",
       "\n",
       "       mfcc_18    mfcc_19  \n",
       "0   -12.406495   4.519414  \n",
       "1    -5.269557   4.579228  \n",
       "2    -3.964740  -2.554837  \n",
       "3    -7.904029   0.114527  \n",
       "4   -14.421210  -3.867775  \n",
       "..         ...        ...  \n",
       "295  -2.062598 -12.169262  \n",
       "296  -7.538567  -1.640821  \n",
       "297  -9.034051  -2.584573  \n",
       "298 -12.250321  -6.567773  \n",
       "299 -15.017625 -10.453238  \n",
       "\n",
       "[300 rows x 21 columns]"
      ]
     },
     "execution_count": 19,
     "metadata": {},
     "output_type": "execute_result"
    }
   ],
   "source": [
    "df"
   ]
  },
  {
   "cell_type": "code",
   "execution_count": 17,
   "id": "d4f0fede",
   "metadata": {},
   "outputs": [
    {
     "data": {
      "text/plain": [
       "label\n",
       "1 lhong         75\n",
       "1 pasi teube    75\n",
       "2 lhong         75\n",
       "2 pasi teube    75\n",
       "Name: count, dtype: int64"
      ]
     },
     "execution_count": 17,
     "metadata": {},
     "output_type": "execute_result"
    }
   ],
   "source": [
    "df['label'].value_counts()"
   ]
  },
  {
   "cell_type": "code",
   "execution_count": 68,
   "id": "50d51a1d",
   "metadata": {},
   "outputs": [
    {
     "name": "stdout",
     "output_type": "stream",
     "text": [
      "<class 'pandas.core.frame.DataFrame'>\n",
      "RangeIndex: 300 entries, 0 to 299\n",
      "Data columns (total 21 columns):\n",
      " #   Column   Non-Null Count  Dtype  \n",
      "---  ------   --------------  -----  \n",
      " 0   label    300 non-null    object \n",
      " 1   mfcc_0   300 non-null    float32\n",
      " 2   mfcc_1   300 non-null    float32\n",
      " 3   mfcc_2   300 non-null    float32\n",
      " 4   mfcc_3   300 non-null    float32\n",
      " 5   mfcc_4   300 non-null    float32\n",
      " 6   mfcc_5   300 non-null    float32\n",
      " 7   mfcc_6   300 non-null    float32\n",
      " 8   mfcc_7   300 non-null    float32\n",
      " 9   mfcc_8   300 non-null    float32\n",
      " 10  mfcc_9   300 non-null    float32\n",
      " 11  mfcc_10  300 non-null    float32\n",
      " 12  mfcc_11  300 non-null    float32\n",
      " 13  mfcc_12  300 non-null    float32\n",
      " 14  mfcc_13  300 non-null    float32\n",
      " 15  mfcc_14  300 non-null    float32\n",
      " 16  mfcc_15  300 non-null    float32\n",
      " 17  mfcc_16  300 non-null    float32\n",
      " 18  mfcc_17  300 non-null    float32\n",
      " 19  mfcc_18  300 non-null    float32\n",
      " 20  mfcc_19  300 non-null    float32\n",
      "dtypes: float32(20), object(1)\n",
      "memory usage: 25.9+ KB\n"
     ]
    }
   ],
   "source": [
    "df.info()"
   ]
  },
  {
   "cell_type": "code",
   "execution_count": 69,
   "id": "f79dc2e4",
   "metadata": {},
   "outputs": [
    {
     "data": {
      "text/plain": [
       "label      0\n",
       "mfcc_0     0\n",
       "mfcc_1     0\n",
       "mfcc_2     0\n",
       "mfcc_3     0\n",
       "mfcc_4     0\n",
       "mfcc_5     0\n",
       "mfcc_6     0\n",
       "mfcc_7     0\n",
       "mfcc_8     0\n",
       "mfcc_9     0\n",
       "mfcc_10    0\n",
       "mfcc_11    0\n",
       "mfcc_12    0\n",
       "mfcc_13    0\n",
       "mfcc_14    0\n",
       "mfcc_15    0\n",
       "mfcc_16    0\n",
       "mfcc_17    0\n",
       "mfcc_18    0\n",
       "mfcc_19    0\n",
       "dtype: int64"
      ]
     },
     "execution_count": 69,
     "metadata": {},
     "output_type": "execute_result"
    }
   ],
   "source": [
    "df.isna().sum()"
   ]
  },
  {
   "cell_type": "code",
   "execution_count": 70,
   "id": "c650c59a",
   "metadata": {},
   "outputs": [],
   "source": [
    "X = df.iloc[:, 1:]\n",
    "y = df['label']"
   ]
  },
  {
   "cell_type": "markdown",
   "id": "ea34853d-7d48-4a0a-b8ed-373e99699d3a",
   "metadata": {},
   "source": [
    "<div style=\"background-color: #163eff; padding: 15px; text-align: center; display: flex; align-items: center; height: 100vh;\">\n",
    "    <span style=\"font-size: 35px; font-weight: bold; font-family: 'Times New Roman'; color: white; margin: auto;\">\n",
    "        Bagi data training 30%\n",
    "    </span>\n",
    "</div>"
   ]
  },
  {
   "cell_type": "code",
   "execution_count": 71,
   "id": "589af4aa",
   "metadata": {},
   "outputs": [],
   "source": [
    "X_train, X_test, y_train, y_test = train_test_split(X, y, test_size=0.3, random_state=42)"
   ]
  },
  {
   "cell_type": "code",
   "execution_count": 72,
   "id": "2491e61a",
   "metadata": {},
   "outputs": [],
   "source": [
    "scaler = StandardScaler()\n",
    "X_train = scaler.fit_transform(X_train)\n",
    "X_test = scaler.transform(X_test)"
   ]
  },
  {
   "cell_type": "code",
   "execution_count": 73,
   "id": "0732057b",
   "metadata": {},
   "outputs": [],
   "source": [
    "k = 5\n",
    "knn_model = KNeighborsClassifier(n_neighbors=k)\n",
    "knn_model.fit(X_train, y_train)\n",
    "\n",
    "y_pred = knn_model.predict(X_test)"
   ]
  },
  {
   "cell_type": "code",
   "execution_count": 74,
   "id": "eccccdf8",
   "metadata": {},
   "outputs": [],
   "source": [
    "cv = StratifiedKFold(n_splits=10, shuffle=True, random_state=42)\n",
    "\n",
    "cross_val_scores = cross_val_score(knn_model, X, y, cv=cv, scoring='accuracy')"
   ]
  },
  {
   "cell_type": "markdown",
   "id": "254837c9-a546-42db-86ef-041644ff795b",
   "metadata": {},
   "source": [
    "<div style=\"background-color: #163eff; padding: 15px; text-align: center; display: flex; align-items: center; height: 100vh;\">\n",
    "    <span style=\"font-size: 35px; font-weight: bold; font-family: 'Times New Roman'; color: white; margin: auto;\">\n",
    "        Output\n",
    "    </span>\n",
    "</div>"
   ]
  },
  {
   "cell_type": "code",
   "execution_count": 75,
   "id": "147f6526",
   "metadata": {},
   "outputs": [
    {
     "name": "stdout",
     "output_type": "stream",
     "text": [
      "Cross-Validation Scores: [0.53333333 0.4        0.36666667 0.53333333 0.53333333 0.36666667\n",
      " 0.46666667 0.5        0.43333333 0.46666667]\n",
      "Mean Accuracy: 46.00%\n"
     ]
    }
   ],
   "source": [
    "print(f\"Cross-Validation Scores: {cross_val_scores}\")\n",
    "print(f\"Mean Accuracy: {np.mean(cross_val_scores) * 100:.2f}%\")"
   ]
  },
  {
   "cell_type": "code",
   "execution_count": 76,
   "id": "76856bfa",
   "metadata": {},
   "outputs": [
    {
     "name": "stdout",
     "output_type": "stream",
     "text": [
      "Accuracy: 44.44%\n",
      "\n",
      "Classification Report:\n",
      "              precision    recall  f1-score   support\n",
      "\n",
      "     1 lhong       0.46      0.54      0.50        24\n",
      "1 pasi teube       0.44      0.50      0.47        24\n",
      "     2 lhong       0.40      0.40      0.40        20\n",
      "2 pasi teube       0.47      0.32      0.38        22\n",
      "\n",
      "    accuracy                           0.44        90\n",
      "   macro avg       0.44      0.44      0.44        90\n",
      "weighted avg       0.45      0.44      0.44        90\n",
      "\n"
     ]
    }
   ],
   "source": [
    "accuracy = accuracy_score(y_test, y_pred)\n",
    "print(f\"Accuracy: {accuracy * 100:.2f}%\")\n",
    "\n",
    "print(\"\\nClassification Report:\")\n",
    "print(classification_report(y_test, y_pred))"
   ]
  },
  {
   "cell_type": "markdown",
   "id": "80cf0616",
   "metadata": {},
   "source": [
    "<div style=\"background-color: #163eff; padding: 15px; text-align: center; display: flex; align-items: center; height: 100vh;\">\n",
    "    <span style=\"font-size: 35px; font-weight: bold; font-family: 'Times New Roman'; color: white; margin: auto;\">\n",
    "        Input Data Baru\n",
    "    </span>\n",
    "</div>"
   ]
  },
  {
   "cell_type": "code",
   "execution_count": 91,
   "id": "700caf65",
   "metadata": {},
   "outputs": [],
   "source": [
    "# new_file_path = \"D:\\Project\\Joki\\KNN-MFCC-REV\\Test\\lhong1.wav\" \n",
    "# new_file_path = \"D:\\Project\\Joki\\KNN-MFCC-REV\\Test\\lhong2.wav\"\n",
    "# new_file_path = \"D:\\Project\\Joki\\KNN-MFCC-REV\\Test\\pasi1.wav\"\n",
    "new_file_path = \"D:\\Project\\Joki\\KNN-MFCC-REV\\Test\\pasi2.wav\" #Unkomen file atas kalau mau coba data diatas\n",
    "new_audio_data, new_sample_rate = librosa.load(new_file_path)\n",
    "new_mfccs = librosa.feature.mfcc(y=new_audio_data, sr=new_sample_rate, n_mfcc=20)\n",
    "new_mfccs_mean = np.mean(new_mfccs, axis=1)\n",
    "new_features = np.array([new_mfccs_mean])"
   ]
  },
  {
   "cell_type": "code",
   "execution_count": 92,
   "id": "29cbc35d",
   "metadata": {},
   "outputs": [
    {
     "name": "stdout",
     "output_type": "stream",
     "text": [
      "Predicted Label for the New Data: 2 pasi teube\n"
     ]
    },
    {
     "name": "stderr",
     "output_type": "stream",
     "text": [
      "C:\\Users\\Ahlul\\anaconda3\\Lib\\site-packages\\sklearn\\base.py:439: UserWarning: X does not have valid feature names, but StandardScaler was fitted with feature names\n",
      "  warnings.warn(\n"
     ]
    }
   ],
   "source": [
    "new_features_scaled = scaler.transform(new_features)\n",
    "new_label = knn_model.predict(new_features_scaled)\n",
    "\n",
    "print(\"Predicted Label for the New Data:\", new_label[0])"
   ]
  },
  {
   "cell_type": "markdown",
   "id": "8ed91aaf",
   "metadata": {},
   "source": [
    "<div style=\"background-color: #163eff; padding: 15px; text-align: center; display: flex; align-items: center; height: 100vh;\">\n",
    "    <span style=\"font-size: 35px; font-weight: bold; font-family: 'Times New Roman'; color: white; margin: auto;\">\n",
    "        EVALUATION\n",
    "    </span>\n",
    "</div>"
   ]
  },
  {
   "cell_type": "code",
   "execution_count": 89,
   "id": "10fd67fe",
   "metadata": {},
   "outputs": [
    {
     "data": {
      "image/png": "[encoded data removed]",
      "text/plain": [
       "<Figure size 800x800 with 1 Axes>"
      ]
     },
     "metadata": {},
     "output_type": "display_data"
    }
   ],
   "source": [
    "from sklearn.preprocessing import label_binarize\n",
    "\n",
    "lb = LabelBinarizer()\n",
    "y_test_bin = label_binarize(y_test, classes=np.unique(y))\n",
    "y_pred_bin = label_binarize(y_pred, classes=np.unique(y))\n",
    "\n",
    "fpr = dict()\n",
    "tpr = dict()\n",
    "roc_auc = dict()\n",
    "\n",
    "for i in range(len(np.unique(y))):\n",
    "    fpr[i], tpr[i], _ = roc_curve(y_test_bin[:, i], y_pred_bin[:, i])\n",
    "    roc_auc[i] = auc(fpr[i], tpr[i])\n",
    "\n",
    "\n",
    "plt.figure(figsize=(8, 8))\n",
    "colors = ['blue', 'red', 'green', 'purple'] \n",
    "\n",
    "for i, color in zip(range(len(np.unique(y))), colors):\n",
    "    plt.plot(fpr[i], tpr[i], color=color, lw=2, label='ROC curve for class {} (AUC = {:.2f})'.format(i, roc_auc[i]))\n",
    "\n",
    "plt.plot([0, 1], [0, 1], color='navy', lw=2, linestyle='--')\n",
    "plt.xlabel('False Positive Rate')\n",
    "plt.ylabel('True Positive Rate')\n",
    "plt.title('Receiver Operating Characteristic (ROC) Curve for each class')\n",
    "plt.legend(loc='lower right')\n",
    "plt.show()"
   ]
  },
  {
   "cell_type": "code",
   "execution_count": 90,
   "id": "f27d5367",
   "metadata": {},
   "outputs": [
    {
     "data": {
      "image/png": "[encoded data removed]",
      "text/plain": [
       "<Figure size 800x800 with 2 Axes>"
      ]
     },
     "metadata": {},
     "output_type": "display_data"
    }
   ],
   "source": [
    "from sklearn.metrics import confusion_matrix\n",
    "import seaborn as sns\n",
    "\n",
    "conf_mat = confusion_matrix(y_test, y_pred)\n",
    "\n",
    "plt.figure(figsize=(8, 8))\n",
    "sns.heatmap(conf_mat, annot=True, fmt='d', cmap='Blues', xticklabels=np.unique(y), yticklabels=np.unique(y))\n",
    "plt.title('Confusion Matrix')\n",
    "plt.xlabel('Predicted')\n",
    "plt.ylabel('Actual')\n",
    "plt.show()"
   ]
  },
  {
   "cell_type": "code",
   "execution_count": null,
   "id": "9798e34b",
   "metadata": {},
   "outputs": [],
   "source": []
  }
 ],
 "metadata": {
  "kernelspec": {
   "display_name": "Python 3 (ipykernel)",
   "language": "python",
   "name": "python3"
  },
  "language_info": {
   "codemirror_mode": {
    "name": "ipython",
    "version": 3
   },
   "file_extension": ".py",
   "mimetype": "text/x-python",
   "name": "python",
   "nbconvert_exporter": "python",
   "pygments_lexer": "ipython3",
   "version": "3.10.10"
  }
 },
 "nbformat": 4,
 "nbformat_minor": 5
}
